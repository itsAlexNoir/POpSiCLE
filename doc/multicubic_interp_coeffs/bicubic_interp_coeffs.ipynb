{
 "cells": [
  {
   "cell_type": "markdown",
   "metadata": {},
   "source": [
    "# Calculation of the bicubic interpolation coefficients"
   ]
  },
  {
   "cell_type": "markdown",
   "metadata": {},
   "source": [
    "This notebook calculates the coefficients for a bicubic interpolation.\n",
    "It is just a simple linear transformation.\n",
    "The result wil be a 16x16 matrix"
   ]
  },
  {
   "cell_type": "code",
   "execution_count": 1,
   "metadata": {
    "collapsed": false
   },
   "outputs": [
    {
     "name": "stdout",
     "output_type": "stream",
     "text": [
      "Populating the interactive namespace from numpy and matplotlib\n"
     ]
    }
   ],
   "source": [
    "%pylab inline"
   ]
  },
  {
   "cell_type": "markdown",
   "metadata": {},
   "source": [
    "## Define the polynomials for the function and his derivatives"
   ]
  },
  {
   "cell_type": "code",
   "execution_count": 2,
   "metadata": {
    "collapsed": false
   },
   "outputs": [],
   "source": [
    "def ff(x,y,mat):\n",
    "    for i in range(4):\n",
    "        for j in range(4):\n",
    "            mat[i,j]=(x**i)*(y**j)\n",
    "            \n",
    "    return mat"
   ]
  },
  {
   "cell_type": "code",
   "execution_count": 3,
   "metadata": {
    "collapsed": true
   },
   "outputs": [],
   "source": [
    "def ffx(x,y,mat):\n",
    "    for i in range(1,4):\n",
    "        for j in range(4):\n",
    "            mat[i,j]=i*(x**(i-1))*(y**j)\n",
    "            \n",
    "    return mat"
   ]
  },
  {
   "cell_type": "code",
   "execution_count": 4,
   "metadata": {
    "collapsed": true
   },
   "outputs": [],
   "source": [
    "def ffy(x,y,mat):\n",
    "    for i in range(4):\n",
    "        for j in range(1,4):\n",
    "            mat[i,j]=j*(x**i)*(y**(j-1))\n",
    "            \n",
    "    return mat"
   ]
  },
  {
   "cell_type": "code",
   "execution_count": 5,
   "metadata": {
    "collapsed": true
   },
   "outputs": [],
   "source": [
    "def ffxy(x,y,mat):\n",
    "    for i in range(1,4):\n",
    "        for j in range(1,4):\n",
    "            mat[i,j]=i*j*(x**(i-1))*(y**(j-1))\n",
    "            \n",
    "    return mat"
   ]
  },
  {
   "cell_type": "markdown",
   "metadata": {},
   "source": [
    "## Define the points in the grid square"
   ]
  },
  {
   "cell_type": "markdown",
   "metadata": {},
   "source": [
    "The order of the points are counterclock-wise on a square."
   ]
  },
  {
   "cell_type": "code",
   "execution_count": 6,
   "metadata": {
    "collapsed": true
   },
   "outputs": [],
   "source": [
    "hh = zeros((16,16))\n",
    "points = [[0,0],[1,0],[1,1],[0,1]]"
   ]
  },
  {
   "cell_type": "markdown",
   "metadata": {},
   "source": [
    "## Prepare the matrix"
   ]
  },
  {
   "cell_type": "code",
   "execution_count": 7,
   "metadata": {
    "collapsed": false
   },
   "outputs": [],
   "source": [
    "for l in range(4):\n",
    "    hs = zeros((4,4))\n",
    "    x = points[l][0]\n",
    "    y = points[l][1]\n",
    "    # We call the function\n",
    "    ff(x,y,hs)\n",
    "    hh[l,:] = hs.reshape(1,16)"
   ]
  },
  {
   "cell_type": "code",
   "execution_count": 8,
   "metadata": {
    "collapsed": false
   },
   "outputs": [],
   "source": [
    "for l in range(4,8):\n",
    "    hs = zeros((4,4))\n",
    "    x = points[l-4][0]\n",
    "    y = points[l-4][1]\n",
    "    # We call the function\n",
    "    ffx(x,y,hs)\n",
    "    hh[l,:] = hs.reshape(1,16)"
   ]
  },
  {
   "cell_type": "code",
   "execution_count": 9,
   "metadata": {
    "collapsed": true
   },
   "outputs": [],
   "source": [
    "for l in range(8,12):\n",
    "    hs = zeros((4,4))\n",
    "    x = points[l-8][0]\n",
    "    y = points[l-8][1]\n",
    "    # We call the function\n",
    "    ffy(x,y,hs)\n",
    "    hh[l,:] = hs.reshape(1,16)"
   ]
  },
  {
   "cell_type": "code",
   "execution_count": 10,
   "metadata": {
    "collapsed": false
   },
   "outputs": [],
   "source": [
    "for l in range(12,16):\n",
    "    hs = zeros((4,4))\n",
    "    x = points[l-12][0]\n",
    "    y = points[l-12][1]\n",
    "    # We call the function\n",
    "    ffxy(x,y,hs)\n",
    "    hh[l,:] = hs.reshape(1,16)"
   ]
  },
  {
   "cell_type": "code",
   "execution_count": 11,
   "metadata": {
    "collapsed": false
   },
   "outputs": [
    {
     "name": "stdout",
     "output_type": "stream",
     "text": [
      "[[ 1.  0.  0.  0.  0.  0.  0.  0.  0.  0.  0.  0.  0.  0.  0.  0.]\n",
      " [ 1.  0.  0.  0.  1.  0.  0.  0.  1.  0.  0.  0.  1.  0.  0.  0.]\n",
      " [ 1.  1.  1.  1.  1.  1.  1.  1.  1.  1.  1.  1.  1.  1.  1.  1.]\n",
      " [ 1.  1.  1.  1.  0.  0.  0.  0.  0.  0.  0.  0.  0.  0.  0.  0.]\n",
      " [ 0.  0.  0.  0.  1.  0.  0.  0.  0.  0.  0.  0.  0.  0.  0.  0.]\n",
      " [ 0.  0.  0.  0.  1.  0.  0.  0.  2.  0.  0.  0.  3.  0.  0.  0.]\n",
      " [ 0.  0.  0.  0.  1.  1.  1.  1.  2.  2.  2.  2.  3.  3.  3.  3.]\n",
      " [ 0.  0.  0.  0.  1.  1.  1.  1.  0.  0.  0.  0.  0.  0.  0.  0.]\n",
      " [ 0.  1.  0.  0.  0.  0.  0.  0.  0.  0.  0.  0.  0.  0.  0.  0.]\n",
      " [ 0.  1.  0.  0.  0.  1.  0.  0.  0.  1.  0.  0.  0.  1.  0.  0.]\n",
      " [ 0.  1.  2.  3.  0.  1.  2.  3.  0.  1.  2.  3.  0.  1.  2.  3.]\n",
      " [ 0.  1.  2.  3.  0.  0.  0.  0.  0.  0.  0.  0.  0.  0.  0.  0.]\n",
      " [ 0.  0.  0.  0.  0.  1.  0.  0.  0.  0.  0.  0.  0.  0.  0.  0.]\n",
      " [ 0.  0.  0.  0.  0.  1.  0.  0.  0.  2.  0.  0.  0.  3.  0.  0.]\n",
      " [ 0.  0.  0.  0.  0.  1.  2.  3.  0.  2.  4.  6.  0.  3.  6.  9.]\n",
      " [ 0.  0.  0.  0.  0.  1.  2.  3.  0.  0.  0.  0.  0.  0.  0.  0.]]\n"
     ]
    }
   ],
   "source": [
    "print hh"
   ]
  },
  {
   "cell_type": "code",
   "execution_count": 12,
   "metadata": {
    "collapsed": false
   },
   "outputs": [
    {
     "data": {
      "text/plain": [
       "1.0"
      ]
     },
     "execution_count": 12,
     "metadata": {},
     "output_type": "execute_result"
    }
   ],
   "source": [
    "# Check the determinant (must be one)\n",
    "det(hh)"
   ]
  },
  {
   "cell_type": "markdown",
   "metadata": {},
   "source": [
    "## Invert the matrix. That's the one we are looking for."
   ]
  },
  {
   "cell_type": "code",
   "execution_count": 13,
   "metadata": {
    "collapsed": true
   },
   "outputs": [],
   "source": [
    "hhinv = inv(hh)"
   ]
  },
  {
   "cell_type": "code",
   "execution_count": 14,
   "metadata": {
    "collapsed": false
   },
   "outputs": [
    {
     "name": "stdout",
     "output_type": "stream",
     "text": [
      "[[ 1.  0.  0.  0.  0.  0.  0.  0.  0.  0.  0.  0.  0.  0.  0.  0.]\n",
      " [ 0.  0.  0.  0.  0.  0.  0.  0.  1.  0.  0.  0.  0.  0.  0.  0.]\n",
      " [-3. -0. -0.  3. -0. -0. -0. -0. -2. -0. -0. -1. -0. -0. -0. -0.]\n",
      " [ 2.  0.  0. -2.  0.  0.  0.  0.  1.  0.  0.  1.  0.  0.  0.  0.]\n",
      " [ 0.  0.  0.  0.  1.  0.  0.  0.  0.  0.  0.  0.  0.  0.  0.  0.]\n",
      " [ 0.  0.  0.  0.  0.  0.  0.  0.  0.  0.  0.  0.  1.  0.  0.  0.]\n",
      " [-0. -0. -0. -0. -3. -0. -0.  3. -0. -0. -0. -0. -2. -0. -0. -1.]\n",
      " [-0. -0. -0. -0.  2. -0. -0. -2. -0. -0. -0. -0.  1. -0. -0.  1.]\n",
      " [-3.  3.  0.  0. -2. -1.  0.  0.  0.  0.  0.  0.  0.  0.  0.  0.]\n",
      " [-0. -0. -0. -0. -0. -0. -0. -0. -3.  3. -0. -0. -2. -1. -0. -0.]\n",
      " [ 9. -9.  9. -9.  6.  3. -3. -6.  6. -6. -3.  3.  4.  2.  1.  2.]\n",
      " [-6.  6. -6.  6. -4. -2.  2.  4. -3.  3.  3. -3. -2. -1. -1. -2.]\n",
      " [ 2. -2.  0.  0.  1.  1.  0.  0.  0.  0.  0.  0.  0.  0.  0.  0.]\n",
      " [ 0.  0.  0.  0.  0.  0.  0.  0.  2. -2.  0.  0.  1.  1.  0.  0.]\n",
      " [-6.  6. -6.  6. -3. -3.  3.  3. -4.  4.  2. -2. -2. -2. -1. -1.]\n",
      " [ 4. -4.  4. -4.  2.  2. -2. -2.  2. -2. -2.  2.  1.  1.  1.  1.]]\n"
     ]
    }
   ],
   "source": [
    "print hhinv"
   ]
  },
  {
   "cell_type": "code",
   "execution_count": 15,
   "metadata": {
    "collapsed": true
   },
   "outputs": [],
   "source": [
    "savetxt('bicoeffs.dat',transpose(hhinv),fmt='%d',delimiter=',')"
   ]
  }
 ],
 "metadata": {
  "kernelspec": {
   "display_name": "Python 2",
   "language": "python",
   "name": "python2"
  },
  "language_info": {
   "codemirror_mode": {
    "name": "ipython",
    "version": 2
   },
   "file_extension": ".py",
   "mimetype": "text/x-python",
   "name": "python",
   "nbconvert_exporter": "python",
   "pygments_lexer": "ipython2",
   "version": "2.7.11"
  }
 },
 "nbformat": 4,
 "nbformat_minor": 0
}
