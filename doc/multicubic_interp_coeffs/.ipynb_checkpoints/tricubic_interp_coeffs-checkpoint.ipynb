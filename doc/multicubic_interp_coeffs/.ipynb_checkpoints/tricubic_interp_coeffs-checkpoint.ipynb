{
 "cells": [
  {
   "cell_type": "markdown",
   "metadata": {},
   "source": [
    "# Calculation of the tricubic interpolation coefficients"
   ]
  },
  {
   "cell_type": "markdown",
   "metadata": {},
   "source": [
    "This notebook calculates the coefficients for a tricubic interpolation.\n",
    "It is just a simple linear transformation.\n",
    "The result wil be a 64x64 matrix"
   ]
  },
  {
   "cell_type": "code",
   "execution_count": 1,
   "metadata": {
    "collapsed": false
   },
   "outputs": [
    {
     "name": "stdout",
     "output_type": "stream",
     "text": [
      "Populating the interactive namespace from numpy and matplotlib\n"
     ]
    }
   ],
   "source": [
    "%pylab inline"
   ]
  },
  {
   "cell_type": "markdown",
   "metadata": {},
   "source": [
    "## Define the polynomials for the function and his derivatives"
   ]
  },
  {
   "cell_type": "code",
   "execution_count": 2,
   "metadata": {
    "collapsed": false
   },
   "outputs": [],
   "source": [
    "def ff(x,y,z,mat):\n",
    "    for i in range(4):\n",
    "        for j in range(4):\n",
    "            for k in range(4):\n",
    "                mat[i,j,k]=(x**i)*(y**j)*(z**k)\n",
    "            \n",
    "    return mat"
   ]
  },
  {
   "cell_type": "code",
   "execution_count": 3,
   "metadata": {
    "collapsed": true
   },
   "outputs": [],
   "source": [
    "def ffx(x,y,z,mat):\n",
    "    for i in range(1,4):\n",
    "        for j in range(4):\n",
    "            for k in range(4):\n",
    "                mat[i,j,k]=i*(x**(i-1))*(y**j)*(z**k)\n",
    "            \n",
    "    return mat"
   ]
  },
  {
   "cell_type": "code",
   "execution_count": 4,
   "metadata": {
    "collapsed": true
   },
   "outputs": [],
   "source": [
    "def ffy(x,y,z,mat):\n",
    "    for i in range(4):\n",
    "        for j in range(1,4):\n",
    "            for k in range(4):\n",
    "                mat[i,j,k]=j*(x**i)*(y**(j-1))*(z**k)\n",
    "            \n",
    "    return mat"
   ]
  },
  {
   "cell_type": "code",
   "execution_count": 5,
   "metadata": {
    "collapsed": false
   },
   "outputs": [],
   "source": [
    "def ffz(x,y,z,mat):\n",
    "    for i in range(4):\n",
    "        for j in range(4):\n",
    "            for k in range(1,4):\n",
    "                mat[i,j,k]=k*(x**i)*(y**j)*(z**(k-1))\n",
    "            \n",
    "    return mat"
   ]
  },
  {
   "cell_type": "code",
   "execution_count": 6,
   "metadata": {
    "collapsed": true
   },
   "outputs": [],
   "source": [
    "def ffxy(x,y,z,mat):\n",
    "    for i in range(1,4):\n",
    "        for j in range(1,4):\n",
    "            for k in range(4):\n",
    "                mat[i,j,k]=i*j*(x**(i-1))*(y**(j-1))*(z**k)\n",
    "            \n",
    "    return mat"
   ]
  },
  {
   "cell_type": "code",
   "execution_count": 7,
   "metadata": {
    "collapsed": true
   },
   "outputs": [],
   "source": [
    "def ffxz(x,y,z,mat):\n",
    "    for i in range(1,4):\n",
    "        for j in range(4):\n",
    "            for k in range(1,4):\n",
    "                mat[i,j,k]=i*k*(x**(i-1))*(y**j)*(z**(k-1))\n",
    "            \n",
    "    return mat"
   ]
  },
  {
   "cell_type": "code",
   "execution_count": 8,
   "metadata": {
    "collapsed": true
   },
   "outputs": [],
   "source": [
    "def ffyz(x,y,z,mat):\n",
    "    for i in range(4):\n",
    "        for j in range(1,4):\n",
    "            for k in range(1,4):\n",
    "                mat[i,j,k]=j*k*(x**i)*(y**(j-1))*(z**(k-1))\n",
    "            \n",
    "    return mat"
   ]
  },
  {
   "cell_type": "code",
   "execution_count": 9,
   "metadata": {
    "collapsed": true
   },
   "outputs": [],
   "source": [
    "def ffxyz(x,y,z,mat):\n",
    "    for i in range(1,4):\n",
    "        for j in range(1,4):\n",
    "            for k in range(1,4):\n",
    "                mat[i,j,k]=i*j*k*(x**(i-1))*(y**(j-1))*(z**(k-1))\n",
    "            \n",
    "    return mat"
   ]
  },
  {
   "cell_type": "markdown",
   "metadata": {},
   "source": [
    "## Define the points in the grid square"
   ]
  },
  {
   "cell_type": "markdown",
   "metadata": {},
   "source": [
    "The order of the points are counterclock-wise on a cube!"
   ]
  },
  {
   "cell_type": "code",
   "execution_count": 10,
   "metadata": {
    "collapsed": true
   },
   "outputs": [],
   "source": [
    "hh = zeros((64,64))\n",
    "points = [[0,0,0],[1,0,0],[1,1,0],[0,1,0],[0,0,1],[1,0,1],[1,1,1],[0,1,1]]"
   ]
  },
  {
   "cell_type": "markdown",
   "metadata": {},
   "source": [
    "## Prepare the matrix"
   ]
  },
  {
   "cell_type": "code",
   "execution_count": 11,
   "metadata": {
    "collapsed": false
   },
   "outputs": [],
   "source": [
    "for l in range(8):\n",
    "    hs = zeros((4,4,4))\n",
    "    x = points[l][0]\n",
    "    y = points[l][1]\n",
    "    z = points[l][2]\n",
    "    # We call the function\n",
    "    ff(x,y,z,hs)\n",
    "    hh[l,:] = hs.reshape(1,64)"
   ]
  },
  {
   "cell_type": "code",
   "execution_count": 12,
   "metadata": {
    "collapsed": false
   },
   "outputs": [],
   "source": [
    "for l in range(8,16):\n",
    "    hs = zeros((4,4,4))\n",
    "    x = points[l-8][0]\n",
    "    y = points[l-8][1]\n",
    "    z = points[l-8][2]\n",
    "    # We call the function\n",
    "    ffx(x,y,z,hs)\n",
    "    hh[l,:] = hs.reshape(1,64)"
   ]
  },
  {
   "cell_type": "code",
   "execution_count": 13,
   "metadata": {
    "collapsed": true
   },
   "outputs": [],
   "source": [
    "for l in range(16,24):\n",
    "    hs = zeros((4,4,4))\n",
    "    x = points[l-16][0]\n",
    "    y = points[l-16][1]\n",
    "    z = points[l-16][2]\n",
    "    # We call the function\n",
    "    ffy(x,y,z,hs)\n",
    "    hh[l,:] = hs.reshape(1,64)"
   ]
  },
  {
   "cell_type": "code",
   "execution_count": 14,
   "metadata": {
    "collapsed": true
   },
   "outputs": [],
   "source": [
    "for l in range(24,32):\n",
    "    hs = zeros((4,4,4))\n",
    "    x = points[l-24][0]\n",
    "    y = points[l-24][1]\n",
    "    z = points[l-24][2]\n",
    "    # We call the function\n",
    "    ffz(x,y,z,hs)\n",
    "    hh[l,:] = hs.reshape(1,64)"
   ]
  },
  {
   "cell_type": "code",
   "execution_count": 15,
   "metadata": {
    "collapsed": true
   },
   "outputs": [],
   "source": [
    "for l in range(32,40):\n",
    "    hs = zeros((4,4,4))\n",
    "    x = points[l-32][0]\n",
    "    y = points[l-32][1]\n",
    "    z = points[l-32][2]\n",
    "    # We call the function\n",
    "    ffxy(x,y,z,hs)\n",
    "    hh[l,:] = hs.reshape(1,64)"
   ]
  },
  {
   "cell_type": "code",
   "execution_count": 16,
   "metadata": {
    "collapsed": true
   },
   "outputs": [],
   "source": [
    "for l in range(40,48):\n",
    "    hs = zeros((4,4,4))\n",
    "    x = points[l-40][0]\n",
    "    y = points[l-40][1]\n",
    "    z = points[l-40][2]\n",
    "    # We call the function\n",
    "    ffxz(x,y,z,hs)\n",
    "    hh[l,:] = hs.reshape(1,64)"
   ]
  },
  {
   "cell_type": "code",
   "execution_count": 17,
   "metadata": {
    "collapsed": true
   },
   "outputs": [],
   "source": [
    "for l in range(48,56):\n",
    "    hs = zeros((4,4,4))\n",
    "    x = points[l-48][0]\n",
    "    y = points[l-48][1]\n",
    "    z = points[l-48][2]\n",
    "    # We call the function\n",
    "    ffyz(x,y,z,hs)\n",
    "    hh[l,:] = hs.reshape(1,64)"
   ]
  },
  {
   "cell_type": "code",
   "execution_count": 18,
   "metadata": {
    "collapsed": true
   },
   "outputs": [],
   "source": [
    "for l in range(56,64):\n",
    "    hs = zeros((4,4,4))\n",
    "    x = points[l-56][0]\n",
    "    y = points[l-56][1]\n",
    "    z = points[l-56][2]\n",
    "    # We call the function\n",
    "    ffxyz(x,y,z,hs)\n",
    "    hh[l,:] = hs.reshape(1,64)"
   ]
  },
  {
   "cell_type": "code",
   "execution_count": 19,
   "metadata": {
    "collapsed": false
   },
   "outputs": [
    {
     "name": "stdout",
     "output_type": "stream",
     "text": [
      "[[  1.   0.   0. ...,   0.   0.   0.]\n",
      " [  1.   0.   0. ...,   0.   0.   0.]\n",
      " [  1.   0.   0. ...,   0.   0.   0.]\n",
      " ..., \n",
      " [  0.   0.   0. ...,   0.   0.   0.]\n",
      " [  0.   0.   0. ...,   9.  18.  27.]\n",
      " [  0.   0.   0. ...,   0.   0.   0.]]\n"
     ]
    }
   ],
   "source": [
    "print hh"
   ]
  },
  {
   "cell_type": "code",
   "execution_count": 20,
   "metadata": {
    "collapsed": false
   },
   "outputs": [
    {
     "data": {
      "text/plain": [
       "1.0000000000000004"
      ]
     },
     "execution_count": 20,
     "metadata": {},
     "output_type": "execute_result"
    }
   ],
   "source": [
    "# Check the determinant (must be one)\n",
    "det(hh)"
   ]
  },
  {
   "cell_type": "markdown",
   "metadata": {},
   "source": [
    "## Invert the matrix. That's the one we are looking for."
   ]
  },
  {
   "cell_type": "code",
   "execution_count": 21,
   "metadata": {
    "collapsed": true
   },
   "outputs": [],
   "source": [
    "hhinv = inv(hh)"
   ]
  },
  {
   "cell_type": "code",
   "execution_count": 22,
   "metadata": {
    "collapsed": false
   },
   "outputs": [
    {
     "name": "stdout",
     "output_type": "stream",
     "text": [
      "[[  1.   0.   0. ...,   0.   0.   0.]\n",
      " [  0.   0.   0. ...,   0.   0.   0.]\n",
      " [ -3.  -0.  -0. ...,  -0.  -0.  -0.]\n",
      " ..., \n",
      " [  0.   0.   0. ...,   0.   0.   0.]\n",
      " [-12.  12. -12. ...,  -1.  -1.  -1.]\n",
      " [  8.  -8.   8. ...,   1.   1.   1.]]\n"
     ]
    }
   ],
   "source": [
    "print hhinv"
   ]
  },
  {
   "cell_type": "code",
   "execution_count": 23,
   "metadata": {
    "collapsed": false
   },
   "outputs": [
    {
     "name": "stdout",
     "output_type": "stream",
     "text": [
      "[  1.   0.  -3.   2.   0.  -0.  -0.   0.  -3.  -0.   9.  -6.   2.   0.  -6.\n",
      "   4.   0.  -0.  -0.   0.   0.  -0.   0.  -0.  -0.  -0.   0.  -0.   0.  -0.\n",
      "  -0.   0.  -3.   0.   9.  -6.  -0.  -0.  -0.   0.   9.  -0. -27.  18.  -6.\n",
      "   0.  18. -12.   2.   0.  -6.   4.   0.   0.  -0.  -0.  -6.   0.  18. -12.\n",
      "   4.   0. -12.   8.]\n"
     ]
    }
   ],
   "source": [
    "print hhinv[:,0]"
   ]
  },
  {
   "cell_type": "code",
   "execution_count": 24,
   "metadata": {
    "collapsed": false
   },
   "outputs": [
    {
     "data": {
      "text/plain": [
       "(64, 64)"
      ]
     },
     "execution_count": 24,
     "metadata": {},
     "output_type": "execute_result"
    }
   ],
   "source": [
    "shape(hhinv)"
   ]
  },
  {
   "cell_type": "code",
   "execution_count": 26,
   "metadata": {
    "collapsed": false
   },
   "outputs": [],
   "source": [
    "savetxt('tricoeffs.dat',transpose(hhinv),fmt='%d',delimiter=',')"
   ]
  }
 ],
 "metadata": {
  "kernelspec": {
   "display_name": "Python 2",
   "language": "python",
   "name": "python2"
  },
  "language_info": {
   "codemirror_mode": {
    "name": "ipython",
    "version": 2
   },
   "file_extension": ".py",
   "mimetype": "text/x-python",
   "name": "python",
   "nbconvert_exporter": "python",
   "pygments_lexer": "ipython2",
   "version": "2.7.11"
  }
 },
 "nbformat": 4,
 "nbformat_minor": 0
}
